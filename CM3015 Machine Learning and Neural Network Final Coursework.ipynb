{
 "cells": [
  {
   "cell_type": "markdown",
   "id": "544eb14b",
   "metadata": {},
   "source": [
    "# 1. Introduction"
   ]
  },
  {
   "cell_type": "markdown",
   "id": "eed4b606",
   "metadata": {},
   "source": [
    "The advent of deep learning has ushered in a new era of medical diagnostics, offering unprecedented opportunities for automated analysis of complex medical imaging data. In the context of the analysis of chest X-ray images emerges as a critical area of study, particularly for the early detection of pulmonary abnormalities like pneumonia. Leveraging advancements in neural network architectures, this project explores curated chest X-ray dataset sourced from clinical settings."
   ]
  },
  {
   "cell_type": "markdown",
   "id": "a8c601d4",
   "metadata": {},
   "source": [
    "## 1.1 Aim and Objective"
   ]
  },
  {
   "cell_type": "markdown",
   "id": "08e58d05",
   "metadata": {},
   "source": [
    "The primary aim of this project is to develop and evaluate deep learning models for automated pneumonia diagnosis from chest X-ray images. The following objectives guide this endeavour:\n",
    "\n",
    "- Develop robust neural network architectures tailored for chest X-ray image classification, with a focus on distinguishing between pneumonia and normal cases.\n",
    "\n",
    "\n",
    "- Rigorously evaluate the performance of developed models using comprehensive metrics such as accuracy, ensuring robustness and reliability in pneumonia diagnosis.\n",
    "\n",
    "\n",
    "- Assess the generalizability of developed models across diverse datasets and clinical settings, thereby enhancing their applicability and scalability in real-world scenarios."
   ]
  },
  {
   "cell_type": "markdown",
   "id": "8a73fb53",
   "metadata": {},
   "source": [
    "## 1.3 Description of Dataset"
   ]
  },
  {
   "cell_type": "markdown",
   "id": "057327f4",
   "metadata": {},
   "source": [
    "The dataset utilized for this project is meticulously organized into three main folders—train, test, and validation — each containing subfolders for the two image categories: Pneumonia and Normal. It comprises a total of 5,863 high-resolution chest X-ray images in JPEG format, sourced from paediatric patients aged 1 to 5 years old at Guangzhou Women and Children’s Medical Centre, Guangzhou. Prior to inclusion, all images underwent stringent quality control measures, including screening for low-quality or unreadable scans, and subsequent grading by expert physicians. This dataset was obtained from the Kaggle repositiory \"Chest X-Ray Images (Pneumonia)\" by Paul Mooney, accessible via [1]"
   ]
  },
  {
   "cell_type": "markdown",
   "id": "d771abc8",
   "metadata": {},
   "source": [
    "## 1.4 Defining the Problem"
   ]
  },
  {
   "cell_type": "markdown",
   "id": "6cc8e1a5",
   "metadata": {},
   "source": [
    "The problem at hand involves binary classification, where the goal is to classify chest X-ray images into two categories: Pneumonia and Normal. This problem falls under the domain of medical image analysis, with the objective of automating pneumonia diagnosis from chest X-ray images. \n",
    "\n",
    "In this project I will be developing and evaluating neural network architectures tailored for binary classification tasks, specifically for pneumonia diagnosis from chest X-ray images. I plan to explore 3 distinct architectures — Deep Model, Deeper Model, and Wider Model — each varying in depth, width, and regularization techniques. These architectures will be equipped with ReLU activation functions in the hidden layers and incorporate L2 regularization and dropout regularization to prevent overfitting. \n",
    "\n",
    "By systematically experimenting with these architectures and evaluating their performance using comprehensive metrics, I aim to identify the optimal model configuration that maximizes classification accuracy and generalization capabilities. "
   ]
  },
  {
   "cell_type": "markdown",
   "id": "642c0ba6",
   "metadata": {},
   "source": [
    "# 2. Importing necessary libraries"
   ]
  },
  {
   "cell_type": "code",
   "execution_count": 1,
   "id": "f24367c5",
   "metadata": {
    "id": "f24367c5"
   },
   "outputs": [
    {
     "name": "stdout",
     "output_type": "stream",
     "text": [
      "WARNING:tensorflow:From C:\\Users\\yc\\anaconda3\\lib\\site-packages\\keras\\src\\losses.py:2976: The name tf.losses.sparse_softmax_cross_entropy is deprecated. Please use tf.compat.v1.losses.sparse_softmax_cross_entropy instead.\n",
      "\n"
     ]
    }
   ],
   "source": [
    "import os\n",
    "import pandas as pd\n",
    "import matplotlib as mat\n",
    "import matplotlib.pyplot as plt\n",
    "import numpy as np\n",
    "import seaborn as sns\n",
    "%matplotlib inline\n",
    "\n",
    "import random\n",
    "\n",
    "from sklearn.model_selection import train_test_split, KFold\n",
    "from sklearn import metrics\n",
    "from sklearn.metrics import accuracy_score,balanced_accuracy_score\n",
    "from sklearn.utils.class_weight import compute_class_weight\n",
    "\n",
    "import keras\n",
    "from keras.models import Sequential, clone_model\n",
    "from keras.layers import Dense, Dropout, TextVectorization\n",
    "from keras.preprocessing.image import ImageDataGenerator\n",
    "from keras.callbacks import EarlyStopping\n",
    "from keras.regularizers import l2\n",
    "from keras.utils import to_categorical\n",
    "import tensorflow as tf\n",
    "from keras.optimizers import RMSprop\n",
    "from keras.metrics import F1Score, AUC\n",
    "\n",
    "import glob\n",
    "import cv2\n",
    "import itertools\n",
    "\n",
    "SEED = 204\n",
    "\n",
    "tf.random.set_seed(SEED)\n",
    "np.random.seed(SEED)\n",
    "\n",
    "import warnings\n",
    "warnings.filterwarnings('ignore')"
   ]
  },
  {
   "cell_type": "markdown",
   "id": "3e65ab3f",
   "metadata": {},
   "source": [
    "# 3. Data pre-processing"
   ]
  },
  {
   "cell_type": "code",
   "execution_count": 2,
   "id": "411d4874",
   "metadata": {
    "colab": {
     "base_uri": "https://localhost:8080/"
    },
    "id": "411d4874",
    "outputId": "e07080a2-749d-4135-c306-4a0638d300a3"
   },
   "outputs": [
    {
     "name": "stdout",
     "output_type": "stream",
     "text": [
      "Number of images in the training set:\n",
      "NORMAL: 1349\n",
      "PNEUMONIA: 3883\n",
      "Total: 5232\n",
      "\n",
      "Number of images in the test set:\n",
      "NORMAL: 234\n",
      "PNEUMONIA: 390\n",
      "Total: 624\n",
      "\n",
      "Ratio of total number of training images to total number of test images: 0.9: 0.1\n"
     ]
    }
   ],
   "source": [
    "main_path = \"chest_xray\"\n",
    "\n",
    "train_path = os.path.join(main_path,\"train\")\n",
    "test_path=os.path.join(main_path,\"test\")\n",
    "\n",
    "train_normal = glob.glob(train_path+\"/NORMAL/*.jpeg\")\n",
    "train_pneumonia = glob.glob(train_path+\"/PNEUMONIA/*.jpeg\")\n",
    "\n",
    "test_normal = glob.glob(test_path+\"/NORMAL/*.jpeg\")\n",
    "test_pneumonia = glob.glob(test_path+\"/PNEUMONIA/*.jpeg\")\n",
    "\n",
    "num_train_normal = len(train_normal)\n",
    "num_train_pneumonia = len(train_pneumonia)\n",
    "num_test_normal = len(test_normal)\n",
    "num_test_pneumonia = len(test_pneumonia)\n",
    "\n",
    "print(\"Number of images in the training set:\")\n",
    "print(\"NORMAL:\", num_train_normal)\n",
    "print(\"PNEUMONIA:\", num_train_pneumonia)\n",
    "print(\"Total:\", num_train_normal + num_train_pneumonia)\n",
    "\n",
    "print(\"\\nNumber of images in the test set:\")\n",
    "print(\"NORMAL:\", num_test_normal)\n",
    "print(\"PNEUMONIA:\", num_test_pneumonia)\n",
    "print(\"Total:\", num_test_normal + num_test_pneumonia)\n",
    "\n",
    "# Calculate total number of images in the training and test sets\n",
    "total_train_images = num_train_normal + num_train_pneumonia\n",
    "total_test_images = num_test_normal + num_test_pneumonia\n",
    "total_images = total_train_images + total_test_images\n",
    "\n",
    "# Calculate ratio of total number of training images to total number of test images\n",
    "ratio_training = total_train_images / total_images\n",
    "ratio_test = total_test_images / total_images\n",
    "\n",
    "print(f\"\\nRatio of total number of training images to total number of test images: {ratio_training:.1f}: {ratio_test:.1f}\")"
   ]
  },
  {
   "cell_type": "markdown",
   "id": "bf8eccbd",
   "metadata": {},
   "source": [
    "There are only training and testing dataset from the dataset gotten from Kaggle, and the ratio of training to testing dataset is 0.9:0.1. I want to have my dataset split into 3 componenets: train, test and validation, with a ratio of 0.6:0.2:0.2, therefore, I will be shuffling all images from both folders and the split the data accordingly to the ratio 0.6:0.2:0.2 for train, test and validation respectively."
   ]
  },
  {
   "cell_type": "code",
   "execution_count": 3,
   "id": "0b5f84c4",
   "metadata": {
    "colab": {
     "base_uri": "https://localhost:8080/"
    },
    "id": "0b5f84c4",
    "outputId": "12bbc8ed-1b5e-43ac-ad6a-17ee0b54d52b"
   },
   "outputs": [
    {
     "name": "stdout",
     "output_type": "stream",
     "text": [
      "Number of images in the training set:\n",
      "NORMAL: 935\n",
      "PNEUMONIA: 2578\n",
      "Total: 3513\n",
      "\n",
      "Number of images in the validation set:\n",
      "NORMAL: 320\n",
      "PNEUMONIA: 851\n",
      "Total: 1171\n",
      "\n",
      "Number of images in the test set:\n",
      "NORMAL: 328\n",
      "PNEUMONIA: 844\n",
      "Total: 1172\n"
     ]
    }
   ],
   "source": [
    "# Combine train and test datasets\n",
    "all_normal = train_normal + test_normal\n",
    "all_pneumonia = train_pneumonia + test_pneumonia\n",
    "\n",
    "# Combine all images into a single list\n",
    "all_images = all_normal + all_pneumonia\n",
    "\n",
    "# Shuffle the combined list\n",
    "random.shuffle(all_images)\n",
    "\n",
    "# Calculate the sizes of each set\n",
    "total_images = len(all_images)\n",
    "train_size = int(0.6 * total_images)  # 60% for training\n",
    "val_size = int(0.2 * total_images)    # 20% for validation\n",
    "test_size = total_images - train_size - val_size  # Remaining 20% for testing\n",
    "\n",
    "# Split the combined list into training, validation, and test sets\n",
    "train_images = all_images[:train_size]\n",
    "val_images = all_images[train_size:train_size+val_size]\n",
    "test_images = all_images[train_size+val_size:]\n",
    "\n",
    "# Separate images into NORMAL and PNEUMONIA classes\n",
    "train_normal = [img for img in train_images if 'NORMAL' in img]\n",
    "train_pneumonia = [img for img in train_images if 'PNEUMONIA' in img]\n",
    "\n",
    "val_normal = [img for img in val_images if 'NORMAL' in img]\n",
    "val_pneumonia = [img for img in val_images if 'PNEUMONIA' in img]\n",
    "\n",
    "test_normal = [img for img in test_images if 'NORMAL' in img]\n",
    "test_pneumonia = [img for img in test_images if 'PNEUMONIA' in img]\n",
    "\n",
    "print(\"Number of images in the training set:\")\n",
    "print(\"NORMAL:\", len(train_normal))\n",
    "print(\"PNEUMONIA:\", len(train_pneumonia))\n",
    "print(\"Total:\", len(train_images))\n",
    "\n",
    "print(\"\\nNumber of images in the validation set:\")\n",
    "print(\"NORMAL:\", len(val_normal))\n",
    "print(\"PNEUMONIA:\", len(val_pneumonia))\n",
    "print(\"Total:\", len(val_images))\n",
    "\n",
    "print(\"\\nNumber of images in the test set:\")\n",
    "print(\"NORMAL:\", len(test_normal))\n",
    "print(\"PNEUMONIA:\", len(test_pneumonia))\n",
    "print(\"Total:\", len(test_images))"
   ]
  },
  {
   "cell_type": "markdown",
   "id": "c3d0c7fe",
   "metadata": {},
   "source": [
    "## 3.1 Normalizing image"
   ]
  },
  {
   "cell_type": "markdown",
   "id": "6a49ec44",
   "metadata": {},
   "source": [
    "Normalization standardizes the pixel values of images, ensuring consistency and facilitating convergence during model training. The normalization process involves scaling the pixel values to a range between 0 and 1. This is achieved by dividing each pixel value by the maximum pixel value (255 for images) to ensure that all pixel values fall within the desired range. By normalizing the images, it ensures that the model's training process is more stable and efficient, as it reduces the impact of variations in pixel intensity across different images. "
   ]
  },
  {
   "cell_type": "code",
   "execution_count": 4,
   "id": "26c450db",
   "metadata": {
    "id": "26c450db"
   },
   "outputs": [],
   "source": [
    "# Function to load and preprocess images\n",
    "def preprocess_images(image_paths, image_size):\n",
    "    images = []\n",
    "    for path in image_paths:\n",
    "        image = cv2.imread(path)\n",
    "        image = cv2.resize(image, (image_size, image_size))  # Resize image\n",
    "        image = cv2.cvtColor(image, cv2.COLOR_BGR2GRAY) #gray scale\n",
    "        image = image.astype(np.float32) / 255.0  # Normalize pixel values\n",
    "        images.append(image)\n",
    "    return np.array(images)"
   ]
  },
  {
   "cell_type": "code",
   "execution_count": 5,
   "id": "969639db",
   "metadata": {
    "id": "969639db"
   },
   "outputs": [],
   "source": [
    "# Function to prepare labels\n",
    "def prepare_labels(labels):\n",
    "    # Assuming binary classification (0 for NORMAL, 1 for PNEUMONIA)\n",
    "    return np.array(labels)"
   ]
  },
  {
   "cell_type": "code",
   "execution_count": 6,
   "id": "0f7247e5",
   "metadata": {
    "id": "0f7247e5"
   },
   "outputs": [],
   "source": [
    "# Load images and labels\n",
    "all_normal = train_normal + test_normal\n",
    "all_pneumonia = train_pneumonia + test_pneumonia\n",
    "all_images = all_normal + all_pneumonia\n",
    "all_labels = [0] * len(all_normal) + [1] * len(all_pneumonia)\n",
    "\n",
    "# Preprocess images\n",
    "image_size = 64\n",
    "X = preprocess_images(all_images, image_size)\n",
    "\n",
    "# Prepare labels\n",
    "y = prepare_labels(all_labels)"
   ]
  },
  {
   "cell_type": "code",
   "execution_count": 7,
   "id": "094b3706",
   "metadata": {
    "colab": {
     "base_uri": "https://localhost:8080/"
    },
    "id": "094b3706",
    "outputId": "c6078c4a-05e4-4e98-a222-6e963abb4872"
   },
   "outputs": [
    {
     "data": {
      "text/plain": [
       "array([0, 1])"
      ]
     },
     "execution_count": 7,
     "metadata": {},
     "output_type": "execute_result"
    }
   ],
   "source": [
    "np.unique(y)"
   ]
  },
  {
   "cell_type": "markdown",
   "id": "ed22e692",
   "metadata": {},
   "source": [
    "# 4. Train, Test and Split"
   ]
  },
  {
   "cell_type": "code",
   "execution_count": 8,
   "id": "d877f1f7",
   "metadata": {
    "id": "d877f1f7"
   },
   "outputs": [],
   "source": [
    "# Split the data into training, validation, and test sets\n",
    "X_train, X_test, y_train, y_test = train_test_split(X, y, test_size=0.2, random_state=42)\n",
    "X_train, X_val, y_train, y_val = train_test_split(X_train, y_train, test_size=0.2, random_state=42)  # 0.25 * 0.8 = 0.2"
   ]
  },
  {
   "cell_type": "code",
   "execution_count": 9,
   "id": "a549a091",
   "metadata": {
    "colab": {
     "base_uri": "https://localhost:8080/"
    },
    "id": "a549a091",
    "outputId": "1c961e4e-aa2b-4f1d-907a-1fca5c72378f"
   },
   "outputs": [
    {
     "name": "stdout",
     "output_type": "stream",
     "text": [
      "Shape of X_train: (2998, 64, 64)\n",
      "Shape of y_train: (2998,)\n",
      "Shape of X_val: (750, 64, 64)\n",
      "Shape of y_val: (750,)\n",
      "Shape of X_test: (937, 64, 64)\n",
      "Shape of y_test: (937,)\n"
     ]
    }
   ],
   "source": [
    "# Print the shapes of the data\n",
    "print(\"Shape of X_train:\", X_train.shape)\n",
    "print(\"Shape of y_train:\", y_train.shape)\n",
    "print(\"Shape of X_val:\", X_val.shape)\n",
    "print(\"Shape of y_val:\", y_val.shape)\n",
    "print(\"Shape of X_test:\", X_test.shape)\n",
    "print(\"Shape of y_test:\", y_test.shape)"
   ]
  },
  {
   "cell_type": "markdown",
   "id": "1150650b",
   "metadata": {},
   "source": [
    "## 4.1 Reshaping image"
   ]
  },
  {
   "cell_type": "markdown",
   "id": "5596d251",
   "metadata": {},
   "source": [
    "The Chest X-Ray images are represented as 3-dimensional arrays, but the algorithm implementation below requires 2-dimensional input. Reshaping converts the images into 2-dimensional arrays, where each row represents a single image flattened into a 1-dimensional array. This simplifies the input representation, facilitating model training and improving performance in classification tasks."
   ]
  },
  {
   "cell_type": "code",
   "execution_count": 11,
   "id": "f7509867",
   "metadata": {
    "colab": {
     "base_uri": "https://localhost:8080/"
    },
    "id": "f7509867",
    "outputId": "4ada8dd4-a61a-4752-b2bb-0509524635a2"
   },
   "outputs": [
    {
     "name": "stdout",
     "output_type": "stream",
     "text": [
      "Shape of X_train after reshaping: (2998, 4096)\n",
      "Shape of X_val after reshaping: (750, 4096)\n",
      "Shape of X_test after reshaping: (937, 4096)\n"
     ]
    }
   ],
   "source": [
    "# Reshape X_train, X_val, and X_test to 2-dimensional arrays\n",
    "X_train = X_train.reshape(X_train.shape[0], -1)\n",
    "X_val = X_val.reshape(X_val.shape[0], -1)\n",
    "X_test = X_test.reshape(X_test.shape[0], -1)\n",
    "\n",
    "# Cast as floats and rescale from 0 to 1\n",
    "X_train = X_train.astype('float32') / 255\n",
    "X_val = X_val.astype('float32') / 255\n",
    "X_test = X_test.astype('float32') / 255\n",
    "\n",
    "# Print the shapes after reshaping\n",
    "print(\"Shape of X_train after reshaping:\", X_train.shape)\n",
    "print(\"Shape of X_val after reshaping:\", X_val.shape)\n",
    "print(\"Shape of X_test after reshaping:\", X_test.shape)"
   ]
  },
  {
   "cell_type": "code",
   "execution_count": 10,
   "id": "a1dcbbc0",
   "metadata": {
    "id": "a1dcbbc0"
   },
   "outputs": [],
   "source": [
    "# Cast as floats\n",
    "y_train = y_train.astype('float32')\n",
    "y_val = y_val.astype('float32')\n",
    "y_test = y_test.astype('float32')"
   ]
  },
  {
   "cell_type": "code",
   "execution_count": 12,
   "id": "f6300f9c",
   "metadata": {
    "colab": {
     "base_uri": "https://localhost:8080/"
    },
    "id": "f6300f9c",
    "outputId": "102114d3-f857-410b-f1bb-323640b525e7"
   },
   "outputs": [
    {
     "data": {
      "text/plain": [
       "((2998, 4096), (2998,))"
      ]
     },
     "execution_count": 12,
     "metadata": {},
     "output_type": "execute_result"
    }
   ],
   "source": [
    "X_train.shape, y_train.shape"
   ]
  },
  {
   "cell_type": "markdown",
   "id": "b934ea39",
   "metadata": {},
   "source": [
    "# 5. Naive Baseline"
   ]
  },
  {
   "cell_type": "markdown",
   "id": "77c78757",
   "metadata": {},
   "source": [
    "Establishing a naive baseline is important as it provides a simple benchmark for comparing the performance of more complex models. By setting a minimum level of accuracy based on basic predictions, such as always choosing the most frequent class, we gain perspective on the relative effectiveness of advanced algorithms. This baseline aids in understanding the task's difficulty and guides the selection and optimization of models."
   ]
  },
  {
   "cell_type": "code",
   "execution_count": 13,
   "id": "0c78c248",
   "metadata": {
    "colab": {
     "base_uri": "https://localhost:8080/"
    },
    "id": "0c78c248",
    "outputId": "4044e2e2-5a3b-48b8-cf65-9a3e604ac57a"
   },
   "outputs": [
    {
     "name": "stdout",
     "output_type": "stream",
     "text": [
      "Most frequent class in the training set: 1.0\n",
      "Naive Baseline accuracy: 73.21547698465643\n"
     ]
    }
   ],
   "source": [
    "# Calculate the frequency of each class in the training set\n",
    "unique_classes, class_counts = np.unique(y_train, return_counts=True)\n",
    "\n",
    "# Find the most frequent class\n",
    "most_frequent_class = unique_classes[np.argmax(class_counts)]\n",
    "\n",
    "# Calculate the baseline accuracy assuming all predictions are the most frequent class\n",
    "baseline_accuracy = np.max(class_counts) / len(y_train)\n",
    "\n",
    "print(\"Most frequent class in the training set:\", most_frequent_class)\n",
    "print(\"Naive Baseline accuracy:\", baseline_accuracy*100)"
   ]
  },
  {
   "cell_type": "code",
   "execution_count": 14,
   "id": "47b6ae7f",
   "metadata": {
    "colab": {
     "base_uri": "https://localhost:8080/"
    },
    "id": "47b6ae7f",
    "outputId": "fc974b1e-99a9-4116-ef09-2395ec90fd98"
   },
   "outputs": [
    {
     "data": {
      "text/plain": [
       "{0: 1.8667496886674968, 1: 0.6829157175398634}"
      ]
     },
     "execution_count": 14,
     "metadata": {},
     "output_type": "execute_result"
    }
   ],
   "source": [
    "labels = np.argmax(y_train, axis=0)\n",
    "weights = compute_class_weight('balanced', classes=np.unique(y_train), y=y_train)\n",
    "CLASS_WEIGHT = dict(enumerate(weights))\n",
    "\n",
    "CLASS_WEIGHT"
   ]
  },
  {
   "cell_type": "markdown",
   "id": "6ab41029",
   "metadata": {
    "id": "6ab41029"
   },
   "source": [
    "Class 0: This class has a weight of approximately 1.87. This means that during training, samples belonging to class 0 will be given approximately 1.87 times more importance than samples belonging to other classes. It indicates that class 0 is less frequent in the dataset, so it needs more weight to balance its representation during training.\n",
    "\n",
    "Class 1: This class has a weight of approximately 0.68. This means that during training, samples belonging to class 1 will be given approximately 0.68 times the importance of samples belonging to other classes. It indicates that class 1 is more frequent in the dataset, so it needs less weight to balance its representation during training."
   ]
  },
  {
   "cell_type": "markdown",
   "id": "bd0f1fc5",
   "metadata": {},
   "source": [
    "# 6. Developing a model that does better than a baseline"
   ]
  },
  {
   "cell_type": "markdown",
   "id": "e78d39b2",
   "metadata": {},
   "source": [
    "## 6.1 Plotting of graph function"
   ]
  },
  {
   "cell_type": "code",
   "execution_count": 15,
   "id": "097a5181",
   "metadata": {
    "id": "097a5181"
   },
   "outputs": [],
   "source": [
    "def plot_loss(loss,val_loss):\n",
    "  #plot training loss and validation loss on the graph\n",
    "  plt.clf() #discard any existing features\n",
    "  epochs=range(1,len(loss)+1)#get a number of epochs\n",
    "\n",
    "  #assign values for each axis\n",
    "  plt.plot(epochs,loss,'bo',label=\"Loss\")\n",
    "  plt.plot(epochs,val_loss,label=\"Validation Loss\", color= \"red\")\n",
    "\n",
    "  #set a title of graph and labels of each axis\n",
    "  plt.title(\"Training Loss & Validation Loss\")\n",
    "  plt.xlabel('Epochs')\n",
    "  plt.ylabel('Loss')\n",
    "  plt.legend()\n",
    "  plt.show()"
   ]
  },
  {
   "cell_type": "code",
   "execution_count": 16,
   "id": "e454fd42",
   "metadata": {
    "id": "e454fd42"
   },
   "outputs": [],
   "source": [
    "def plot_accuracy(acc,val_acc):\n",
    "  #plot training accuracy and validation accuracy\n",
    "  plt.clf()#discard any existing features\n",
    "  epochs=range(1,len(acc)+1) #get a number of epochs\n",
    "\n",
    "  #assign labels and values for each axis\n",
    "  plt.plot(epochs,acc,'ro',label=\"Accuracy\")\n",
    "  plt.plot(epochs,val_acc,label=\"Validation Accuracy\" , color =\"purple\")\n",
    "\n",
    "  #set a title of graph and labels of each axis\n",
    "  plt.title(\"Training and validation accuracy\")\n",
    "  plt.xlabel('Epochs')\n",
    "  plt.ylabel(\"Accuracy\")\n",
    "  plt.legend()\n",
    "  plt.show()"
   ]
  },
  {
   "cell_type": "markdown",
   "id": "a1f92221",
   "metadata": {},
   "source": [
    "## 6.2 Baseline architecture"
   ]
  },
  {
   "cell_type": "code",
   "execution_count": 17,
   "id": "7eb48ea8",
   "metadata": {
    "id": "7eb48ea8"
   },
   "outputs": [
    {
     "name": "stdout",
     "output_type": "stream",
     "text": [
      "WARNING:tensorflow:From C:\\Users\\yc\\anaconda3\\lib\\site-packages\\keras\\src\\utils\\tf_utils.py:585: The name tf.executing_eagerly_outside_functions is deprecated. Please use tf.compat.v1.executing_eagerly_outside_functions instead.\n",
      "\n"
     ]
    }
   ],
   "source": [
    "INPUT_DIMENSION = X_train.shape[1]\n",
    "OUTPUT_DIMENSION = 1\n",
    "\n",
    "OPTIMIZER = 'rmsprop'\n",
    "LOSS_FUNC = 'binary_crossentropy'\n",
    "METRICS = ['accuracy',\n",
    "           F1Score(name='f1_score', average=\"weighted\"),\n",
    "           AUC(num_thresholds=2, name='auc')]\n",
    "\n",
    "MONITOR = 'val_loss'\n",
    "PATIENCE = 5\n",
    "\n",
    "EARLY_STOP = EarlyStopping(monitor=MONITOR, restore_best_weights=True, patience=PATIENCE, verbose=0)"
   ]
  },
  {
   "cell_type": "markdown",
   "id": "ebbbc3e4",
   "metadata": {},
   "source": [
    "The selection of RMSprop as the optimization algorithm and Binary Crossentropy as the loss function is pivotal for training neural networks in binary classification tasks. \n",
    "\n",
    "RMSprop, renowned for its adaptability to varying gradients, enhances convergence speed and stability by adjusting learning rates based on recent gradient magnitudes. This mitigates issues related to noisy gradients and erratic oscillations, ensuring smoother and more reliable training. [2]\n",
    "\n",
    "Meanwhile, Binary Crossentropy serves as an apt choice for binary classification, efficiently quantifying the disparity between true labels and predicted probabilities. Specifically tailored for binary scenarios, it penalizes inaccurate predictions more severely, facilitating effective model training, particularly when utilizing sigmoid activation functions in the output layer. [3]\n",
    "\n",
    "Together, the combination of RMSprop and Binary Crossentropy optimizes the training process, fostering the development of robust neural network models for binary classification tasks. \n",
    "\n",
    "The evaluation metrics used to evaluate the model would be by accuracy as functions provided by Tensorflow are unable to properly evaluate metrics such as F1 score and AUC since the test and validation dataset is very small."
   ]
  },
  {
   "cell_type": "code",
   "execution_count": 18,
   "id": "5c8f355d",
   "metadata": {
    "colab": {
     "base_uri": "https://localhost:8080/"
    },
    "id": "5c8f355d",
    "outputId": "808723b1-483d-4d1d-e8be-db26207190fd"
   },
   "outputs": [
    {
     "name": "stdout",
     "output_type": "stream",
     "text": [
      "Model: \"baseline\"\n",
      "_________________________________________________________________\n",
      " Layer (type)                Output Shape              Param #   \n",
      "=================================================================\n",
      " dense (Dense)               (None, 1)                 4097      \n",
      "                                                                 \n",
      "=================================================================\n",
      "Total params: 4097 (16.00 KB)\n",
      "Trainable params: 4097 (16.00 KB)\n",
      "Non-trainable params: 0 (0.00 Byte)\n",
      "_________________________________________________________________\n"
     ]
    }
   ],
   "source": [
    "baseline = Sequential(\n",
    "    [\n",
    "        Dense(OUTPUT_DIMENSION, activation='sigmoid', input_shape=(INPUT_DIMENSION,))\n",
    "    ],\n",
    "    name=\"baseline\"\n",
    ")\n",
    "\n",
    "baseline.summary()"
   ]
  },
  {
   "cell_type": "markdown",
   "id": "7e0b0fe3",
   "metadata": {},
   "source": [
    "The baseline model is built with sigmoid activation function because it exists between 0 and 1. The sigmoid activation function is especially used for models to predict the probability as an output, since probability only exists between the range of 0 and 1."
   ]
  },
  {
   "cell_type": "code",
   "execution_count": 19,
   "id": "32515f7d",
   "metadata": {
    "id": "32515f7d"
   },
   "outputs": [],
   "source": [
    "learning_rate = 0.05\n",
    "batch_size = 64\n",
    "EPOCHS = 100"
   ]
  },
  {
   "cell_type": "code",
   "execution_count": 20,
   "id": "7baf26b0",
   "metadata": {
    "id": "7baf26b0"
   },
   "outputs": [],
   "source": [
    "baseline.compile(optimizer=RMSprop(learning_rate=learning_rate),\n",
    "                 loss=LOSS_FUNC, metrics=METRICS)"
   ]
  },
  {
   "cell_type": "code",
   "execution_count": 21,
   "id": "ae8bb2ed",
   "metadata": {
    "id": "ae8bb2ed"
   },
   "outputs": [
    {
     "name": "stdout",
     "output_type": "stream",
     "text": [
      "WARNING:tensorflow:From C:\\Users\\yc\\anaconda3\\lib\\site-packages\\keras\\src\\utils\\tf_utils.py:492: The name tf.ragged.RaggedTensorValue is deprecated. Please use tf.compat.v1.ragged.RaggedTensorValue instead.\n",
      "\n",
      "WARNING:tensorflow:From C:\\Users\\yc\\anaconda3\\lib\\site-packages\\keras\\src\\engine\\base_layer_utils.py:384: The name tf.executing_eagerly_outside_functions is deprecated. Please use tf.compat.v1.executing_eagerly_outside_functions instead.\n",
      "\n"
     ]
    }
   ],
   "source": [
    "baseline_history = baseline.fit(X_train, y_train,\n",
    "                                class_weight=CLASS_WEIGHT,\n",
    "                                batch_size=batch_size, epochs=EPOCHS,\n",
    "                                validation_data=(X_val, y_val),\n",
    "                                callbacks=[EARLY_STOP],\n",
    "                                verbose=0)"
   ]
  },
  {
   "cell_type": "code",
   "execution_count": 22,
   "id": "d69add3e",
   "metadata": {
    "colab": {
     "base_uri": "https://localhost:8080/"
    },
    "id": "d69add3e",
    "outputId": "259c24c7-f89f-41e6-c49a-4369785ee259"
   },
   "outputs": [
    {
     "name": "stdout",
     "output_type": "stream",
     "text": [
      "Accuracy (Validation): 0.93 (Naive Baseline = 0.73)\n"
     ]
    }
   ],
   "source": [
    "baseline_scores = baseline.evaluate(X_val, y_val, verbose=0)[1:]\n",
    "\n",
    "print('Accuracy (Validation): {:.2f} (Naive Baseline = {:.2f})'.format(baseline_scores[0], baseline_accuracy))"
   ]
  },
  {
   "cell_type": "markdown",
   "id": "58cd9b05",
   "metadata": {},
   "source": [
    "The accuracy of a trained model on a validation dataset is assessed, yielding a score of 0.92. A naive baseline accuracy of 0.73 is provided for comparison, representing the accuracy achieved by predicting the most frequent class for all instances.This comparison determines if the model's accuracy outperforms the naive baseline approach. With an accuracy of 0.92, the model demonstrates its effectiveness in surpassing the simple baseline and making accurate predictions on the validation set."
   ]
  },
  {
   "cell_type": "code",
   "execution_count": 23,
   "id": "4e72b7a4",
   "metadata": {
    "colab": {
     "base_uri": "https://localhost:8080/"
    },
    "id": "4e72b7a4",
    "outputId": "ed8c40fc-536b-4695-dd1a-afbb1e422f3c"
   },
   "outputs": [
    {
     "name": "stdout",
     "output_type": "stream",
     "text": [
      "Balanced Accuracy (Validation): 0.91 (Naive Baseline = 0.73)\n"
     ]
    }
   ],
   "source": [
    "preds = baseline.predict(X_val, verbose=0)\n",
    "\n",
    "print('Balanced Accuracy (Validation): {:.2f} (Naive Baseline = {:.2f})'.format(balanced_accuracy_score(y_val, (preds >= 0.5)), baseline_accuracy))"
   ]
  },
  {
   "cell_type": "markdown",
   "id": "98b66e22",
   "metadata": {},
   "source": [
    "The balanced accuracy score is compared to the naive baseline accuracy its effectiveness in surpassing the naive baseline with 0.90 > 0.73."
   ]
  },
  {
   "cell_type": "code",
   "execution_count": 24,
   "id": "32366f88",
   "metadata": {
    "colab": {
     "base_uri": "https://localhost:8080/",
     "height": 472
    },
    "id": "32366f88",
    "outputId": "e287ea9b-f3a0-41f7-a12a-1fbd78550138"
   },
   "outputs": [
    {
     "data": {
      "image/png": "[encoded data removed]",
      "text/plain": [
       "<Figure size 640x480 with 1 Axes>"
      ]
     },
     "metadata": {},
     "output_type": "display_data"
    }
   ],
   "source": [
    "plot_loss(loss=baseline_history.history['loss'], val_loss=baseline_history.history['val_loss'])"
   ]
  },
  {
   "cell_type": "markdown",
   "id": "eab63d8f",
   "metadata": {},
   "source": [
    "The training loss (blue dots) shows a general decline with some fluctuations, suggesting the model is still learning and improving its performance over time. The validation loss (red line) also shows a decline but with more pronounced fluctuations. This could be due to the model’s performance varying more on the unseen validation data. However, the gap between the training loss and validation loss seems to be increasing as the number of epochs increases. This could be a sign of overfitting, where the model is becoming too specialized to the training data and performs less well on unseen data."
   ]
  },
  {
   "cell_type": "code",
   "execution_count": 25,
   "id": "37934bcc",
   "metadata": {},
   "outputs": [
    {
     "data": {
      "image/png": "[encoded data removed]",
      "text/plain": [
       "<Figure size 640x480 with 1 Axes>"
      ]
     },
     "metadata": {},
     "output_type": "display_data"
    }
   ],
   "source": [
    "plot_accuracy(acc=baseline_history.history['accuracy'],val_acc=baseline_history.history['val_accuracy'])"
   ]
  },
  {
   "cell_type": "markdown",
   "id": "a9e89520",
   "metadata": {},
   "source": [
    "The training accuracy (red dots) shows an increase over time, indicating that the model is correctly learning from the training data. The validation accuracy (purple line) also shows an increase but with some fluctuations. This could be due to the model’s performance varying more on the unseen validation data."
   ]
  },
  {
   "cell_type": "markdown",
   "id": "686a77ec",
   "metadata": {},
   "source": [
    "# 7. Scaling up: developing a model that overfits"
   ]
  },
  {
   "cell_type": "markdown",
   "id": "fa09bd50",
   "metadata": {},
   "source": [
    "To scale up to develop a model that overfits, number of layers have been increased from (1 layer to 3 layers), dimension of layer are also increased from (1 to 32, 64 and 128), as well as increasing the epochs from (100 to 300)."
   ]
  },
  {
   "cell_type": "code",
   "execution_count": 26,
   "id": "b5ab51f5",
   "metadata": {
    "id": "b5ab51f5"
   },
   "outputs": [],
   "source": [
    "learning_rate = 0.01\n",
    "EPOCHS = 300\n",
    "batch_size = 64"
   ]
  },
  {
   "cell_type": "code",
   "execution_count": 27,
   "id": "d8aa5461",
   "metadata": {
    "id": "d8aa5461"
   },
   "outputs": [],
   "source": [
    "overfit = Sequential([\n",
    "    Dense(128, activation=\"relu\", input_shape=(INPUT_DIMENSION,), name=\"hidden1\"),\n",
    "    Dense(64, activation=\"relu\", name=\"hidden2\"),\n",
    "    Dense(32, activation=\"relu\", name=\"hidden3\"),\n",
    "    Dense(OUTPUT_DIMENSION, activation=\"sigmoid\", name=\"output\")\n",
    "], name=\"overfit\")"
   ]
  },
  {
   "cell_type": "code",
   "execution_count": 28,
   "id": "e0def19b",
   "metadata": {
    "id": "e0def19b"
   },
   "outputs": [],
   "source": [
    "overfit.compile(optimizer=RMSprop(learning_rate=learning_rate),\n",
    "                loss=LOSS_FUNC, metrics=METRICS)\n",
    "\n",
    "overfit_history = overfit.fit(X_train, y_train,\n",
    "                              class_weight=CLASS_WEIGHT,\n",
    "                              batch_size=batch_size, epochs=EPOCHS,\n",
    "                              validation_data=(X_val, y_val),\n",
    "                              callbacks=[],\n",
    "                              verbose=0)"
   ]
  },
  {
   "cell_type": "code",
   "execution_count": 29,
   "id": "90f7a503",
   "metadata": {
    "colab": {
     "base_uri": "https://localhost:8080/"
    },
    "id": "90f7a503",
    "outputId": "b7dcf0ec-72c9-44f7-84c4-126fc9ca819f"
   },
   "outputs": [
    {
     "name": "stdout",
     "output_type": "stream",
     "text": [
      "Accuracy (Validation): 0.91 (Naive Baseline = 0.73)\n"
     ]
    }
   ],
   "source": [
    "overfit_scores = overfit.evaluate(X_val, y_val, verbose=0)[1:]\n",
    "\n",
    "print('Accuracy (Validation): {:.2f} (Naive Baseline = {:.2f})'.format(overfit_scores[0], baseline_accuracy))"
   ]
  },
  {
   "cell_type": "markdown",
   "id": "171b9a12",
   "metadata": {},
   "source": [
    "Validation accuracy is clearly shown to be larger than naive basline accuracy, this demonstrates the effectiveness of the model which overfits."
   ]
  },
  {
   "cell_type": "code",
   "execution_count": 30,
   "id": "170fd2c7",
   "metadata": {
    "colab": {
     "base_uri": "https://localhost:8080/",
     "height": 472
    },
    "id": "170fd2c7",
    "outputId": "7960c544-ffd5-430a-9936-b2f03bc16c1c"
   },
   "outputs": [
    {
     "data": {
      "image/png": "[encoded data removed]",
      "text/plain": [
       "<Figure size 640x480 with 1 Axes>"
      ]
     },
     "metadata": {},
     "output_type": "display_data"
    }
   ],
   "source": [
    "plot_loss(loss=overfit_history.history['loss'], val_loss=overfit_history.history['val_loss'])"
   ]
  },
  {
   "cell_type": "markdown",
   "id": "b8468ae3",
   "metadata": {},
   "source": [
    "The training loss (blue dots) shows a consistent decrease over time, indicating improvement in model performance on training data. The validation loss (red line) fluctuates with noticeable spikes, suggesting variability in model performance on unseen or validation data. The training loss is significantly lower than the validation loss from epochs value 125 onwards, it is a sign of overfitting."
   ]
  },
  {
   "cell_type": "code",
   "execution_count": 31,
   "id": "4648f845",
   "metadata": {},
   "outputs": [
    {
     "data": {
      "image/png": "[encoded data removed]",
      "text/plain": [
       "<Figure size 640x480 with 1 Axes>"
      ]
     },
     "metadata": {},
     "output_type": "display_data"
    }
   ],
   "source": [
    "plot_accuracy(acc=overfit_history.history['accuracy'],val_acc=overfit_history.history['val_accuracy'])"
   ]
  },
  {
   "cell_type": "markdown",
   "id": "52bda09b",
   "metadata": {},
   "source": [
    "The training accuracy (red dots) shows a rapid increase and then plateaus near 1.0, indicating that the model is fitting the training data well. The validation accuracy (purple line) also increases but then plateaus at a lower value than the training accuracy, suggesting that the model is overfitting to the training data."
   ]
  },
  {
   "cell_type": "markdown",
   "id": "c090a2f3",
   "metadata": {},
   "source": [
    "# 8. Regularizing and tuning hyperparameters"
   ]
  },
  {
   "cell_type": "markdown",
   "id": "e504f415",
   "metadata": {},
   "source": [
    "## 8.1 Deep Model"
   ]
  },
  {
   "cell_type": "markdown",
   "id": "196705c4",
   "metadata": {},
   "source": [
    "This deep model is built on top of the overfit model, with dropout layers and kernel regularizer included. \n",
    "\n",
    "Dropout is a regularization technique used to prevent overfitting. Dropout layer will randomly drop out outputs of the previous layer according to the dropout rate. [4]\n",
    "\n",
    "Kernel regularizer is also another technique to prevent overfitting by discouraging the network from using large weights in the model. Regularization is the process of adding penalty factors to the network layers to alter the weight propagation with the help of the layers that are facilitating the model to optimise the covergence. [5]"
   ]
  },
  {
   "cell_type": "code",
   "execution_count": 32,
   "id": "ba1ed706",
   "metadata": {
    "id": "ba1ed706"
   },
   "outputs": [],
   "source": [
    "# over-sized model - neural network architecture that can overfit the data\n",
    "def DeepModel(l2_penalty, dropout_rate) :\n",
    "    return Sequential(\n",
    "        [\n",
    "            Dense(128, kernel_regularizer=l2(l2_penalty), activation=\"relu\", input_shape=(INPUT_DIMENSION,), name=\"hidden1\"),\n",
    "            Dropout(rate=dropout_rate),\n",
    "            Dense(64, kernel_regularizer=l2(l2_penalty), activation=\"relu\", name=\"hidden2\"),\n",
    "            Dropout(rate=dropout_rate),\n",
    "            Dense(32, kernel_regularizer=l2(l2_penalty), activation=\"relu\", name=\"hidden3\"),\n",
    "            Dropout(rate=dropout_rate),\n",
    "            Dense(OUTPUT_DIMENSION,  activation='sigmoid', name='output')\n",
    "        ],\n",
    "        name=\"deep\"\n",
    "    )"
   ]
  },
  {
   "cell_type": "markdown",
   "id": "37228638",
   "metadata": {},
   "source": [
    "## 8.2 Deeper Model"
   ]
  },
  {
   "cell_type": "markdown",
   "id": "5f5a59fb",
   "metadata": {},
   "source": [
    "The deeper model has one more dense and dropout layer added to it with a dense layer dimension of 32."
   ]
  },
  {
   "cell_type": "code",
   "execution_count": 33,
   "id": "3edbad0d",
   "metadata": {
    "id": "3edbad0d"
   },
   "outputs": [],
   "source": [
    "def DeeperModel(l2_penalty, dropout_rate) :\n",
    "   return Sequential(\n",
    "      [\n",
    "          Dense(128, kernel_regularizer=l2(0.001), activation=\"relu\", input_shape=(INPUT_DIMENSION,), name=\"hidden1\"),\n",
    "          Dropout(rate=dropout_rate),\n",
    "          Dense(64, kernel_regularizer=l2(0.001), activation=\"relu\", name=\"hidden2\"),\n",
    "          Dropout(rate=dropout_rate),\n",
    "          Dense(32, kernel_regularizer=l2(0.001), activation=\"relu\", name=\"hidden3\"),\n",
    "          Dropout(rate=dropout_rate),\n",
    "          Dense(32, kernel_regularizer=l2(0.001), activation=\"relu\", name=\"hidden4\"),\n",
    "          Dropout(rate=dropout_rate),\n",
    "          Dense(OUTPUT_DIMENSION,  activation='sigmoid', name='output')\n",
    "      ],\n",
    "      name = 'deeper'\n",
    "   )\n",
    "\n"
   ]
  },
  {
   "cell_type": "markdown",
   "id": "f7da4675",
   "metadata": {},
   "source": [
    "## 8.3 Wider Model"
   ]
  },
  {
   "cell_type": "markdown",
   "id": "447ed121",
   "metadata": {},
   "source": [
    "The wider model has the same number of layers as deep model, however, the dense layers has more dimension, up till 256. "
   ]
  },
  {
   "cell_type": "code",
   "execution_count": 34,
   "id": "e4469f40",
   "metadata": {
    "id": "e4469f40"
   },
   "outputs": [],
   "source": [
    "def WiderModel(l2_penalty, dropout_rate) :\n",
    "   return Sequential(\n",
    "       [\n",
    "          Dense(256, kernel_regularizer=l2(l2_penalty), activation=\"relu\", input_shape=(INPUT_DIMENSION,), name=\"hidden1\"),\n",
    "          Dropout(rate=dropout_rate),\n",
    "          Dense(128, kernel_regularizer=l2(l2_penalty), activation=\"relu\", name=\"hidden2\"),\n",
    "          Dropout(rate=dropout_rate),\n",
    "          Dense(64, kernel_regularizer=l2(l2_penalty), activation=\"relu\", name=\"hidden3\"),\n",
    "          Dropout(rate=dropout_rate),\n",
    "          Dense(OUTPUT_DIMENSION,  activation='sigmoid', name='output')\n",
    "      ],\n",
    "      name = 'wider'\n",
    "   )"
   ]
  },
  {
   "cell_type": "markdown",
   "id": "85c5f015",
   "metadata": {},
   "source": [
    "# 9. k-Fold Cross Validation"
   ]
  },
  {
   "cell_type": "markdown",
   "id": "b8931d0f",
   "metadata": {},
   "source": [
    "K-fold cross-validation is a powerful technique used to assess machine learning model performance by partitioning the dataset into k subsets, with each fold serving as a validation set while the others are used for training. \n",
    "\n",
    "In the context of this project involving binary classification of medical images, k-fold cross-validation ensures robust evaluation across multiple data subsets, reducing the risk of overfitting and providing a more reliable estimate of model generalization. By averaging performance metrics across folds, it offers insight into the model's consistency and effectiveness, crucial for real-world deployment. \n",
    "\n",
    "Additionally, cross-validation facilitates hyperparameter tuning by systematically exploring different configurations, enhancing model optimization. Overall, k-fold cross-validation enhances the reliability, robustness, and generalization of model evaluation in the binary classification of medical images."
   ]
  },
  {
   "cell_type": "code",
   "execution_count": 35,
   "id": "14wVPW4JepE6",
   "metadata": {
    "id": "14wVPW4JepE6"
   },
   "outputs": [],
   "source": [
    "# reduced grid size for testing correctness of the cross-validation function\n",
    "parameters = {\n",
    "    'dropout': [0.0, 0.1, 0.2, 0.3],\n",
    "    'alpha': [0.0, 0.001, 0.01, 0.1],\n",
    "    'learning_rate': [0.01],\n",
    "    'batch_size': [32]\n",
    "}\n",
    "\n",
    "EPOCHS = 200"
   ]
  },
  {
   "cell_type": "code",
   "execution_count": 36,
   "id": "4455b3a4",
   "metadata": {
    "id": "4455b3a4"
   },
   "outputs": [],
   "source": [
    "def cross_validation(X, y, cv, model, class_weight, param_grid, loss, metrics, epochs, callbacks, seed=0) :\n",
    "    kf = KFold(n_splits=cv)\n",
    "    keys, values = zip(*param_grid.items())\n",
    "\n",
    "    # cross-validation scores\n",
    "    cvs = {}\n",
    "    for params in [dict(zip(keys, v)) for v in itertools.product(*values)] :\n",
    "        scores = []\n",
    "        for i, (train_index, test_index) in enumerate(kf.split(X)) :\n",
    "            nn = model(l2_penalty=params['alpha'], dropout_rate=params['dropout']) #clone_model(model)\n",
    "\n",
    "            nn.compile(optimizer=RMSprop(learning_rate=params['learning_rate']),\n",
    "                       loss=loss, metrics=metrics)\n",
    "\n",
    "            nn.fit(X[train_index,:], y[train_index],\n",
    "                   class_weight=class_weight,\n",
    "                   batch_size=params['batch_size'], epochs=epochs,\n",
    "                   validation_data=(X[test_index,:], y[test_index]),\n",
    "                   callbacks=callbacks,\n",
    "                   verbose=0)\n",
    "\n",
    "            scores.append(nn.evaluate(X[test_index,:], y[test_index], verbose=0))\n",
    "\n",
    "        cvs[str(params)] = np.array(scores).mean(axis=0)\n",
    "\n",
    "    return cvs"
   ]
  },
  {
   "cell_type": "code",
   "execution_count": 37,
   "id": "b8e6d0e6",
   "metadata": {
    "id": "b8e6d0e6"
   },
   "outputs": [],
   "source": [
    "def dict_to_dataframe(cvs, metrics) :\n",
    "    entries = []\n",
    "    for key, value in cvs.items() :\n",
    "        entry = eval(key)\n",
    "\n",
    "        for metric, score in zip(metrics, value) :\n",
    "            entry[metric] = score\n",
    "\n",
    "        entries.append(entry)\n",
    "\n",
    "    return pd.DataFrame(entries)"
   ]
  },
  {
   "cell_type": "markdown",
   "id": "bfde53c1",
   "metadata": {},
   "source": [
    "## 9.1 Results"
   ]
  },
  {
   "cell_type": "markdown",
   "id": "8612cb1b",
   "metadata": {},
   "source": [
    "As mentioned above, the data points are relatively small, therefore the  functions provided by Tensorflow are unable to properly evaluate metrics such as F1 score and AUC. The metrics to evaluate the most optimal model and it's architecture would be one of the highest accuracy. The cross validation will run through a series of different hyperparameters and the architecuture of each model will be sorted by the highest accuracy at the top and lowest at the bottom."
   ]
  },
  {
   "cell_type": "markdown",
   "id": "29df659e",
   "metadata": {},
   "source": [
    "### 9.1.1 Deep Model"
   ]
  },
  {
   "cell_type": "code",
   "execution_count": 38,
   "id": "6166f841",
   "metadata": {
    "id": "6166f841"
   },
   "outputs": [],
   "source": [
    "cvs_deep = cross_validation(X_train, y_train, cv=3, model=DeepModel,\n",
    "                            class_weight=CLASS_WEIGHT,\n",
    "                            param_grid=parameters, loss=LOSS_FUNC, metrics=METRICS,\n",
    "                            epochs=EPOCHS,\n",
    "                            callbacks=[EARLY_STOP], seed=SEED)"
   ]
  },
  {
   "cell_type": "code",
   "execution_count": 39,
   "id": "8AgxxLS2dKds",
   "metadata": {
    "colab": {
     "base_uri": "https://localhost:8080/",
     "height": 551
    },
    "id": "8AgxxLS2dKds",
    "outputId": "959dcc6f-11d1-40d8-a763-85d70cd23fcc"
   },
   "outputs": [
    {
     "data": {
      "text/html": [
       "<div>\n",
       "<style scoped>\n",
       "    .dataframe tbody tr th:only-of-type {\n",
       "        vertical-align: middle;\n",
       "    }\n",
       "\n",
       "    .dataframe tbody tr th {\n",
       "        vertical-align: top;\n",
       "    }\n",
       "\n",
       "    .dataframe thead th {\n",
       "        text-align: right;\n",
       "    }\n",
       "</style>\n",
       "<table border=\"1\" class=\"dataframe\">\n",
       "  <thead>\n",
       "    <tr style=\"text-align: right;\">\n",
       "      <th></th>\n",
       "      <th>dropout</th>\n",
       "      <th>alpha</th>\n",
       "      <th>learning_rate</th>\n",
       "      <th>batch_size</th>\n",
       "      <th>loss</th>\n",
       "      <th>accuracy</th>\n",
       "      <th>f1_score</th>\n",
       "      <th>auc</th>\n",
       "    </tr>\n",
       "  </thead>\n",
       "  <tbody>\n",
       "    <tr>\n",
       "      <th>8</th>\n",
       "      <td>0.2</td>\n",
       "      <td>0.000</td>\n",
       "      <td>0.01</td>\n",
       "      <td>32</td>\n",
       "      <td>0.188043</td>\n",
       "      <td>0.925946</td>\n",
       "      <td>0.845338</td>\n",
       "      <td>0.5</td>\n",
       "    </tr>\n",
       "    <tr>\n",
       "      <th>4</th>\n",
       "      <td>0.1</td>\n",
       "      <td>0.000</td>\n",
       "      <td>0.01</td>\n",
       "      <td>32</td>\n",
       "      <td>0.211308</td>\n",
       "      <td>0.924942</td>\n",
       "      <td>0.845338</td>\n",
       "      <td>0.5</td>\n",
       "    </tr>\n",
       "    <tr>\n",
       "      <th>12</th>\n",
       "      <td>0.3</td>\n",
       "      <td>0.000</td>\n",
       "      <td>0.01</td>\n",
       "      <td>32</td>\n",
       "      <td>0.217542</td>\n",
       "      <td>0.914938</td>\n",
       "      <td>0.845338</td>\n",
       "      <td>0.5</td>\n",
       "    </tr>\n",
       "    <tr>\n",
       "      <th>0</th>\n",
       "      <td>0.0</td>\n",
       "      <td>0.000</td>\n",
       "      <td>0.01</td>\n",
       "      <td>32</td>\n",
       "      <td>0.505575</td>\n",
       "      <td>0.798558</td>\n",
       "      <td>0.845338</td>\n",
       "      <td>0.5</td>\n",
       "    </tr>\n",
       "    <tr>\n",
       "      <th>1</th>\n",
       "      <td>0.0</td>\n",
       "      <td>0.001</td>\n",
       "      <td>0.01</td>\n",
       "      <td>32</td>\n",
       "      <td>0.683744</td>\n",
       "      <td>0.732158</td>\n",
       "      <td>0.845338</td>\n",
       "      <td>0.5</td>\n",
       "    </tr>\n",
       "    <tr>\n",
       "      <th>2</th>\n",
       "      <td>0.0</td>\n",
       "      <td>0.010</td>\n",
       "      <td>0.01</td>\n",
       "      <td>32</td>\n",
       "      <td>0.681585</td>\n",
       "      <td>0.732158</td>\n",
       "      <td>0.845338</td>\n",
       "      <td>0.5</td>\n",
       "    </tr>\n",
       "    <tr>\n",
       "      <th>3</th>\n",
       "      <td>0.0</td>\n",
       "      <td>0.100</td>\n",
       "      <td>0.01</td>\n",
       "      <td>32</td>\n",
       "      <td>1.884776</td>\n",
       "      <td>0.732158</td>\n",
       "      <td>0.845338</td>\n",
       "      <td>0.5</td>\n",
       "    </tr>\n",
       "    <tr>\n",
       "      <th>5</th>\n",
       "      <td>0.1</td>\n",
       "      <td>0.001</td>\n",
       "      <td>0.01</td>\n",
       "      <td>32</td>\n",
       "      <td>0.681478</td>\n",
       "      <td>0.732158</td>\n",
       "      <td>0.845338</td>\n",
       "      <td>0.5</td>\n",
       "    </tr>\n",
       "    <tr>\n",
       "      <th>6</th>\n",
       "      <td>0.1</td>\n",
       "      <td>0.010</td>\n",
       "      <td>0.01</td>\n",
       "      <td>32</td>\n",
       "      <td>0.681519</td>\n",
       "      <td>0.732158</td>\n",
       "      <td>0.845338</td>\n",
       "      <td>0.5</td>\n",
       "    </tr>\n",
       "    <tr>\n",
       "      <th>7</th>\n",
       "      <td>0.1</td>\n",
       "      <td>0.100</td>\n",
       "      <td>0.01</td>\n",
       "      <td>32</td>\n",
       "      <td>1.882443</td>\n",
       "      <td>0.732158</td>\n",
       "      <td>0.845338</td>\n",
       "      <td>0.5</td>\n",
       "    </tr>\n",
       "    <tr>\n",
       "      <th>9</th>\n",
       "      <td>0.2</td>\n",
       "      <td>0.001</td>\n",
       "      <td>0.01</td>\n",
       "      <td>32</td>\n",
       "      <td>0.678958</td>\n",
       "      <td>0.732158</td>\n",
       "      <td>0.845338</td>\n",
       "      <td>0.5</td>\n",
       "    </tr>\n",
       "    <tr>\n",
       "      <th>10</th>\n",
       "      <td>0.2</td>\n",
       "      <td>0.010</td>\n",
       "      <td>0.01</td>\n",
       "      <td>32</td>\n",
       "      <td>0.681345</td>\n",
       "      <td>0.732158</td>\n",
       "      <td>0.845338</td>\n",
       "      <td>0.5</td>\n",
       "    </tr>\n",
       "    <tr>\n",
       "      <th>11</th>\n",
       "      <td>0.2</td>\n",
       "      <td>0.100</td>\n",
       "      <td>0.01</td>\n",
       "      <td>32</td>\n",
       "      <td>1.884807</td>\n",
       "      <td>0.732158</td>\n",
       "      <td>0.845338</td>\n",
       "      <td>0.5</td>\n",
       "    </tr>\n",
       "    <tr>\n",
       "      <th>13</th>\n",
       "      <td>0.3</td>\n",
       "      <td>0.001</td>\n",
       "      <td>0.01</td>\n",
       "      <td>32</td>\n",
       "      <td>0.679570</td>\n",
       "      <td>0.732158</td>\n",
       "      <td>0.845338</td>\n",
       "      <td>0.5</td>\n",
       "    </tr>\n",
       "    <tr>\n",
       "      <th>14</th>\n",
       "      <td>0.3</td>\n",
       "      <td>0.010</td>\n",
       "      <td>0.01</td>\n",
       "      <td>32</td>\n",
       "      <td>0.682230</td>\n",
       "      <td>0.732158</td>\n",
       "      <td>0.845338</td>\n",
       "      <td>0.5</td>\n",
       "    </tr>\n",
       "    <tr>\n",
       "      <th>15</th>\n",
       "      <td>0.3</td>\n",
       "      <td>0.100</td>\n",
       "      <td>0.01</td>\n",
       "      <td>32</td>\n",
       "      <td>1.879415</td>\n",
       "      <td>0.732158</td>\n",
       "      <td>0.845338</td>\n",
       "      <td>0.5</td>\n",
       "    </tr>\n",
       "  </tbody>\n",
       "</table>\n",
       "</div>"
      ],
      "text/plain": [
       "    dropout  alpha  learning_rate  batch_size      loss  accuracy  f1_score  \\\n",
       "8       0.2  0.000           0.01          32  0.188043  0.925946  0.845338   \n",
       "4       0.1  0.000           0.01          32  0.211308  0.924942  0.845338   \n",
       "12      0.3  0.000           0.01          32  0.217542  0.914938  0.845338   \n",
       "0       0.0  0.000           0.01          32  0.505575  0.798558  0.845338   \n",
       "1       0.0  0.001           0.01          32  0.683744  0.732158  0.845338   \n",
       "2       0.0  0.010           0.01          32  0.681585  0.732158  0.845338   \n",
       "3       0.0  0.100           0.01          32  1.884776  0.732158  0.845338   \n",
       "5       0.1  0.001           0.01          32  0.681478  0.732158  0.845338   \n",
       "6       0.1  0.010           0.01          32  0.681519  0.732158  0.845338   \n",
       "7       0.1  0.100           0.01          32  1.882443  0.732158  0.845338   \n",
       "9       0.2  0.001           0.01          32  0.678958  0.732158  0.845338   \n",
       "10      0.2  0.010           0.01          32  0.681345  0.732158  0.845338   \n",
       "11      0.2  0.100           0.01          32  1.884807  0.732158  0.845338   \n",
       "13      0.3  0.001           0.01          32  0.679570  0.732158  0.845338   \n",
       "14      0.3  0.010           0.01          32  0.682230  0.732158  0.845338   \n",
       "15      0.3  0.100           0.01          32  1.879415  0.732158  0.845338   \n",
       "\n",
       "    auc  \n",
       "8   0.5  \n",
       "4   0.5  \n",
       "12  0.5  \n",
       "0   0.5  \n",
       "1   0.5  \n",
       "2   0.5  \n",
       "3   0.5  \n",
       "5   0.5  \n",
       "6   0.5  \n",
       "7   0.5  \n",
       "9   0.5  \n",
       "10  0.5  \n",
       "11  0.5  \n",
       "13  0.5  \n",
       "14  0.5  \n",
       "15  0.5  "
      ]
     },
     "execution_count": 39,
     "metadata": {},
     "output_type": "execute_result"
    }
   ],
   "source": [
    "cvs_deep = dict_to_dataframe(cvs=cvs_deep, metrics=['loss', 'accuracy', 'f1_score', 'auc'])\n",
    "cvs_deep.sort_values(by=['accuracy'], ascending=False)"
   ]
  },
  {
   "cell_type": "markdown",
   "id": "cfac1466",
   "metadata": {},
   "source": [
    "### 9.2 Deeper Model"
   ]
  },
  {
   "cell_type": "code",
   "execution_count": 40,
   "id": "052c0f0d",
   "metadata": {
    "id": "052c0f0d"
   },
   "outputs": [],
   "source": [
    "cvs_deeper = cross_validation(X_train, y_train, cv=3, model=DeeperModel,\n",
    "                            class_weight=CLASS_WEIGHT,\n",
    "                            param_grid=parameters, loss=LOSS_FUNC, metrics=METRICS,\n",
    "                            epochs=EPOCHS,\n",
    "                            callbacks=[EARLY_STOP], seed=SEED)"
   ]
  },
  {
   "cell_type": "code",
   "execution_count": 41,
   "id": "2501973b",
   "metadata": {
    "id": "2501973b"
   },
   "outputs": [
    {
     "data": {
      "text/html": [
       "<div>\n",
       "<style scoped>\n",
       "    .dataframe tbody tr th:only-of-type {\n",
       "        vertical-align: middle;\n",
       "    }\n",
       "\n",
       "    .dataframe tbody tr th {\n",
       "        vertical-align: top;\n",
       "    }\n",
       "\n",
       "    .dataframe thead th {\n",
       "        text-align: right;\n",
       "    }\n",
       "</style>\n",
       "<table border=\"1\" class=\"dataframe\">\n",
       "  <thead>\n",
       "    <tr style=\"text-align: right;\">\n",
       "      <th></th>\n",
       "      <th>dropout</th>\n",
       "      <th>alpha</th>\n",
       "      <th>learning_rate</th>\n",
       "      <th>batch_size</th>\n",
       "      <th>loss</th>\n",
       "      <th>accuracy</th>\n",
       "      <th>f1_score</th>\n",
       "      <th>auc</th>\n",
       "    </tr>\n",
       "  </thead>\n",
       "  <tbody>\n",
       "    <tr>\n",
       "      <th>0</th>\n",
       "      <td>0.0</td>\n",
       "      <td>0.000</td>\n",
       "      <td>0.01</td>\n",
       "      <td>32</td>\n",
       "      <td>0.680001</td>\n",
       "      <td>0.732158</td>\n",
       "      <td>0.845338</td>\n",
       "      <td>0.5</td>\n",
       "    </tr>\n",
       "    <tr>\n",
       "      <th>1</th>\n",
       "      <td>0.0</td>\n",
       "      <td>0.001</td>\n",
       "      <td>0.01</td>\n",
       "      <td>32</td>\n",
       "      <td>0.684352</td>\n",
       "      <td>0.732158</td>\n",
       "      <td>0.845338</td>\n",
       "      <td>0.5</td>\n",
       "    </tr>\n",
       "    <tr>\n",
       "      <th>2</th>\n",
       "      <td>0.0</td>\n",
       "      <td>0.010</td>\n",
       "      <td>0.01</td>\n",
       "      <td>32</td>\n",
       "      <td>0.682986</td>\n",
       "      <td>0.732158</td>\n",
       "      <td>0.845338</td>\n",
       "      <td>0.5</td>\n",
       "    </tr>\n",
       "    <tr>\n",
       "      <th>3</th>\n",
       "      <td>0.0</td>\n",
       "      <td>0.100</td>\n",
       "      <td>0.01</td>\n",
       "      <td>32</td>\n",
       "      <td>0.679188</td>\n",
       "      <td>0.732158</td>\n",
       "      <td>0.845338</td>\n",
       "      <td>0.5</td>\n",
       "    </tr>\n",
       "    <tr>\n",
       "      <th>4</th>\n",
       "      <td>0.1</td>\n",
       "      <td>0.000</td>\n",
       "      <td>0.01</td>\n",
       "      <td>32</td>\n",
       "      <td>0.682207</td>\n",
       "      <td>0.732158</td>\n",
       "      <td>0.845338</td>\n",
       "      <td>0.5</td>\n",
       "    </tr>\n",
       "    <tr>\n",
       "      <th>5</th>\n",
       "      <td>0.1</td>\n",
       "      <td>0.001</td>\n",
       "      <td>0.01</td>\n",
       "      <td>32</td>\n",
       "      <td>0.682655</td>\n",
       "      <td>0.732158</td>\n",
       "      <td>0.845338</td>\n",
       "      <td>0.5</td>\n",
       "    </tr>\n",
       "    <tr>\n",
       "      <th>6</th>\n",
       "      <td>0.1</td>\n",
       "      <td>0.010</td>\n",
       "      <td>0.01</td>\n",
       "      <td>32</td>\n",
       "      <td>0.680271</td>\n",
       "      <td>0.732158</td>\n",
       "      <td>0.845338</td>\n",
       "      <td>0.5</td>\n",
       "    </tr>\n",
       "    <tr>\n",
       "      <th>7</th>\n",
       "      <td>0.1</td>\n",
       "      <td>0.100</td>\n",
       "      <td>0.01</td>\n",
       "      <td>32</td>\n",
       "      <td>0.676651</td>\n",
       "      <td>0.732158</td>\n",
       "      <td>0.845338</td>\n",
       "      <td>0.5</td>\n",
       "    </tr>\n",
       "    <tr>\n",
       "      <th>8</th>\n",
       "      <td>0.2</td>\n",
       "      <td>0.000</td>\n",
       "      <td>0.01</td>\n",
       "      <td>32</td>\n",
       "      <td>0.677513</td>\n",
       "      <td>0.732158</td>\n",
       "      <td>0.845338</td>\n",
       "      <td>0.5</td>\n",
       "    </tr>\n",
       "    <tr>\n",
       "      <th>9</th>\n",
       "      <td>0.2</td>\n",
       "      <td>0.001</td>\n",
       "      <td>0.01</td>\n",
       "      <td>32</td>\n",
       "      <td>0.680393</td>\n",
       "      <td>0.732158</td>\n",
       "      <td>0.845338</td>\n",
       "      <td>0.5</td>\n",
       "    </tr>\n",
       "    <tr>\n",
       "      <th>10</th>\n",
       "      <td>0.2</td>\n",
       "      <td>0.010</td>\n",
       "      <td>0.01</td>\n",
       "      <td>32</td>\n",
       "      <td>0.679868</td>\n",
       "      <td>0.732158</td>\n",
       "      <td>0.845338</td>\n",
       "      <td>0.5</td>\n",
       "    </tr>\n",
       "    <tr>\n",
       "      <th>11</th>\n",
       "      <td>0.2</td>\n",
       "      <td>0.100</td>\n",
       "      <td>0.01</td>\n",
       "      <td>32</td>\n",
       "      <td>0.675986</td>\n",
       "      <td>0.732158</td>\n",
       "      <td>0.845338</td>\n",
       "      <td>0.5</td>\n",
       "    </tr>\n",
       "    <tr>\n",
       "      <th>12</th>\n",
       "      <td>0.3</td>\n",
       "      <td>0.000</td>\n",
       "      <td>0.01</td>\n",
       "      <td>32</td>\n",
       "      <td>0.676485</td>\n",
       "      <td>0.732158</td>\n",
       "      <td>0.845338</td>\n",
       "      <td>0.5</td>\n",
       "    </tr>\n",
       "    <tr>\n",
       "      <th>13</th>\n",
       "      <td>0.3</td>\n",
       "      <td>0.001</td>\n",
       "      <td>0.01</td>\n",
       "      <td>32</td>\n",
       "      <td>0.677594</td>\n",
       "      <td>0.732158</td>\n",
       "      <td>0.845338</td>\n",
       "      <td>0.5</td>\n",
       "    </tr>\n",
       "    <tr>\n",
       "      <th>14</th>\n",
       "      <td>0.3</td>\n",
       "      <td>0.010</td>\n",
       "      <td>0.01</td>\n",
       "      <td>32</td>\n",
       "      <td>0.673665</td>\n",
       "      <td>0.732158</td>\n",
       "      <td>0.845338</td>\n",
       "      <td>0.5</td>\n",
       "    </tr>\n",
       "    <tr>\n",
       "      <th>15</th>\n",
       "      <td>0.3</td>\n",
       "      <td>0.100</td>\n",
       "      <td>0.01</td>\n",
       "      <td>32</td>\n",
       "      <td>0.676590</td>\n",
       "      <td>0.732158</td>\n",
       "      <td>0.845338</td>\n",
       "      <td>0.5</td>\n",
       "    </tr>\n",
       "  </tbody>\n",
       "</table>\n",
       "</div>"
      ],
      "text/plain": [
       "    dropout  alpha  learning_rate  batch_size      loss  accuracy  f1_score  \\\n",
       "0       0.0  0.000           0.01          32  0.680001  0.732158  0.845338   \n",
       "1       0.0  0.001           0.01          32  0.684352  0.732158  0.845338   \n",
       "2       0.0  0.010           0.01          32  0.682986  0.732158  0.845338   \n",
       "3       0.0  0.100           0.01          32  0.679188  0.732158  0.845338   \n",
       "4       0.1  0.000           0.01          32  0.682207  0.732158  0.845338   \n",
       "5       0.1  0.001           0.01          32  0.682655  0.732158  0.845338   \n",
       "6       0.1  0.010           0.01          32  0.680271  0.732158  0.845338   \n",
       "7       0.1  0.100           0.01          32  0.676651  0.732158  0.845338   \n",
       "8       0.2  0.000           0.01          32  0.677513  0.732158  0.845338   \n",
       "9       0.2  0.001           0.01          32  0.680393  0.732158  0.845338   \n",
       "10      0.2  0.010           0.01          32  0.679868  0.732158  0.845338   \n",
       "11      0.2  0.100           0.01          32  0.675986  0.732158  0.845338   \n",
       "12      0.3  0.000           0.01          32  0.676485  0.732158  0.845338   \n",
       "13      0.3  0.001           0.01          32  0.677594  0.732158  0.845338   \n",
       "14      0.3  0.010           0.01          32  0.673665  0.732158  0.845338   \n",
       "15      0.3  0.100           0.01          32  0.676590  0.732158  0.845338   \n",
       "\n",
       "    auc  \n",
       "0   0.5  \n",
       "1   0.5  \n",
       "2   0.5  \n",
       "3   0.5  \n",
       "4   0.5  \n",
       "5   0.5  \n",
       "6   0.5  \n",
       "7   0.5  \n",
       "8   0.5  \n",
       "9   0.5  \n",
       "10  0.5  \n",
       "11  0.5  \n",
       "12  0.5  \n",
       "13  0.5  \n",
       "14  0.5  \n",
       "15  0.5  "
      ]
     },
     "execution_count": 41,
     "metadata": {},
     "output_type": "execute_result"
    }
   ],
   "source": [
    "cvs_deeper = dict_to_dataframe(cvs=cvs_deeper, metrics=['loss', 'accuracy', 'f1_score', 'auc'])\n",
    "cvs_deeper.sort_values(by=['accuracy'], ascending=False)"
   ]
  },
  {
   "cell_type": "markdown",
   "id": "2bdbcf17",
   "metadata": {},
   "source": [
    "### 9.2 Wider Model"
   ]
  },
  {
   "cell_type": "code",
   "execution_count": 42,
   "id": "a2c474de",
   "metadata": {
    "colab": {
     "background_save": true
    },
    "id": "a2c474de"
   },
   "outputs": [],
   "source": [
    "cvs_wider = cross_validation(X_train, y_train, cv=3, model=WiderModel,\n",
    "                             class_weight=CLASS_WEIGHT,\n",
    "                             param_grid=parameters, loss=LOSS_FUNC, metrics=METRICS,\n",
    "                             epochs=EPOCHS,\n",
    "                             callbacks=[EARLY_STOP], seed=SEED)"
   ]
  },
  {
   "cell_type": "code",
   "execution_count": 43,
   "id": "15e90ac7",
   "metadata": {
    "colab": {
     "background_save": true
    },
    "id": "15e90ac7"
   },
   "outputs": [
    {
     "data": {
      "text/html": [
       "<div>\n",
       "<style scoped>\n",
       "    .dataframe tbody tr th:only-of-type {\n",
       "        vertical-align: middle;\n",
       "    }\n",
       "\n",
       "    .dataframe tbody tr th {\n",
       "        vertical-align: top;\n",
       "    }\n",
       "\n",
       "    .dataframe thead th {\n",
       "        text-align: right;\n",
       "    }\n",
       "</style>\n",
       "<table border=\"1\" class=\"dataframe\">\n",
       "  <thead>\n",
       "    <tr style=\"text-align: right;\">\n",
       "      <th></th>\n",
       "      <th>dropout</th>\n",
       "      <th>alpha</th>\n",
       "      <th>learning_rate</th>\n",
       "      <th>batch_size</th>\n",
       "      <th>loss</th>\n",
       "      <th>accuracy</th>\n",
       "      <th>f1_score</th>\n",
       "      <th>auc</th>\n",
       "    </tr>\n",
       "  </thead>\n",
       "  <tbody>\n",
       "    <tr>\n",
       "      <th>8</th>\n",
       "      <td>0.2</td>\n",
       "      <td>0.000</td>\n",
       "      <td>0.01</td>\n",
       "      <td>32</td>\n",
       "      <td>0.179354</td>\n",
       "      <td>0.931951</td>\n",
       "      <td>0.845338</td>\n",
       "      <td>0.5</td>\n",
       "    </tr>\n",
       "    <tr>\n",
       "      <th>12</th>\n",
       "      <td>0.3</td>\n",
       "      <td>0.000</td>\n",
       "      <td>0.01</td>\n",
       "      <td>32</td>\n",
       "      <td>0.204955</td>\n",
       "      <td>0.919275</td>\n",
       "      <td>0.845338</td>\n",
       "      <td>0.5</td>\n",
       "    </tr>\n",
       "    <tr>\n",
       "      <th>4</th>\n",
       "      <td>0.1</td>\n",
       "      <td>0.000</td>\n",
       "      <td>0.01</td>\n",
       "      <td>32</td>\n",
       "      <td>0.345962</td>\n",
       "      <td>0.869222</td>\n",
       "      <td>0.845338</td>\n",
       "      <td>0.5</td>\n",
       "    </tr>\n",
       "    <tr>\n",
       "      <th>0</th>\n",
       "      <td>0.0</td>\n",
       "      <td>0.000</td>\n",
       "      <td>0.01</td>\n",
       "      <td>32</td>\n",
       "      <td>0.506032</td>\n",
       "      <td>0.795222</td>\n",
       "      <td>0.845338</td>\n",
       "      <td>0.5</td>\n",
       "    </tr>\n",
       "    <tr>\n",
       "      <th>1</th>\n",
       "      <td>0.0</td>\n",
       "      <td>0.001</td>\n",
       "      <td>0.01</td>\n",
       "      <td>32</td>\n",
       "      <td>0.679930</td>\n",
       "      <td>0.732158</td>\n",
       "      <td>0.845338</td>\n",
       "      <td>0.5</td>\n",
       "    </tr>\n",
       "    <tr>\n",
       "      <th>2</th>\n",
       "      <td>0.0</td>\n",
       "      <td>0.010</td>\n",
       "      <td>0.01</td>\n",
       "      <td>32</td>\n",
       "      <td>0.679240</td>\n",
       "      <td>0.732158</td>\n",
       "      <td>0.845338</td>\n",
       "      <td>0.5</td>\n",
       "    </tr>\n",
       "    <tr>\n",
       "      <th>3</th>\n",
       "      <td>0.0</td>\n",
       "      <td>0.100</td>\n",
       "      <td>0.01</td>\n",
       "      <td>32</td>\n",
       "      <td>3.131101</td>\n",
       "      <td>0.732158</td>\n",
       "      <td>0.845338</td>\n",
       "      <td>0.5</td>\n",
       "    </tr>\n",
       "    <tr>\n",
       "      <th>5</th>\n",
       "      <td>0.1</td>\n",
       "      <td>0.001</td>\n",
       "      <td>0.01</td>\n",
       "      <td>32</td>\n",
       "      <td>0.679005</td>\n",
       "      <td>0.732158</td>\n",
       "      <td>0.845338</td>\n",
       "      <td>0.5</td>\n",
       "    </tr>\n",
       "    <tr>\n",
       "      <th>6</th>\n",
       "      <td>0.1</td>\n",
       "      <td>0.010</td>\n",
       "      <td>0.01</td>\n",
       "      <td>32</td>\n",
       "      <td>0.680878</td>\n",
       "      <td>0.732158</td>\n",
       "      <td>0.845338</td>\n",
       "      <td>0.5</td>\n",
       "    </tr>\n",
       "    <tr>\n",
       "      <th>7</th>\n",
       "      <td>0.1</td>\n",
       "      <td>0.100</td>\n",
       "      <td>0.01</td>\n",
       "      <td>32</td>\n",
       "      <td>3.125841</td>\n",
       "      <td>0.732158</td>\n",
       "      <td>0.845338</td>\n",
       "      <td>0.5</td>\n",
       "    </tr>\n",
       "    <tr>\n",
       "      <th>9</th>\n",
       "      <td>0.2</td>\n",
       "      <td>0.001</td>\n",
       "      <td>0.01</td>\n",
       "      <td>32</td>\n",
       "      <td>0.679565</td>\n",
       "      <td>0.732158</td>\n",
       "      <td>0.845338</td>\n",
       "      <td>0.5</td>\n",
       "    </tr>\n",
       "    <tr>\n",
       "      <th>10</th>\n",
       "      <td>0.2</td>\n",
       "      <td>0.010</td>\n",
       "      <td>0.01</td>\n",
       "      <td>32</td>\n",
       "      <td>0.680054</td>\n",
       "      <td>0.732158</td>\n",
       "      <td>0.845338</td>\n",
       "      <td>0.5</td>\n",
       "    </tr>\n",
       "    <tr>\n",
       "      <th>11</th>\n",
       "      <td>0.2</td>\n",
       "      <td>0.100</td>\n",
       "      <td>0.01</td>\n",
       "      <td>32</td>\n",
       "      <td>3.127596</td>\n",
       "      <td>0.732158</td>\n",
       "      <td>0.845338</td>\n",
       "      <td>0.5</td>\n",
       "    </tr>\n",
       "    <tr>\n",
       "      <th>13</th>\n",
       "      <td>0.3</td>\n",
       "      <td>0.001</td>\n",
       "      <td>0.01</td>\n",
       "      <td>32</td>\n",
       "      <td>0.674967</td>\n",
       "      <td>0.732158</td>\n",
       "      <td>0.845338</td>\n",
       "      <td>0.5</td>\n",
       "    </tr>\n",
       "    <tr>\n",
       "      <th>14</th>\n",
       "      <td>0.3</td>\n",
       "      <td>0.010</td>\n",
       "      <td>0.01</td>\n",
       "      <td>32</td>\n",
       "      <td>0.679856</td>\n",
       "      <td>0.732158</td>\n",
       "      <td>0.845338</td>\n",
       "      <td>0.5</td>\n",
       "    </tr>\n",
       "    <tr>\n",
       "      <th>15</th>\n",
       "      <td>0.3</td>\n",
       "      <td>0.100</td>\n",
       "      <td>0.01</td>\n",
       "      <td>32</td>\n",
       "      <td>3.133049</td>\n",
       "      <td>0.732158</td>\n",
       "      <td>0.845338</td>\n",
       "      <td>0.5</td>\n",
       "    </tr>\n",
       "  </tbody>\n",
       "</table>\n",
       "</div>"
      ],
      "text/plain": [
       "    dropout  alpha  learning_rate  batch_size      loss  accuracy  f1_score  \\\n",
       "8       0.2  0.000           0.01          32  0.179354  0.931951  0.845338   \n",
       "12      0.3  0.000           0.01          32  0.204955  0.919275  0.845338   \n",
       "4       0.1  0.000           0.01          32  0.345962  0.869222  0.845338   \n",
       "0       0.0  0.000           0.01          32  0.506032  0.795222  0.845338   \n",
       "1       0.0  0.001           0.01          32  0.679930  0.732158  0.845338   \n",
       "2       0.0  0.010           0.01          32  0.679240  0.732158  0.845338   \n",
       "3       0.0  0.100           0.01          32  3.131101  0.732158  0.845338   \n",
       "5       0.1  0.001           0.01          32  0.679005  0.732158  0.845338   \n",
       "6       0.1  0.010           0.01          32  0.680878  0.732158  0.845338   \n",
       "7       0.1  0.100           0.01          32  3.125841  0.732158  0.845338   \n",
       "9       0.2  0.001           0.01          32  0.679565  0.732158  0.845338   \n",
       "10      0.2  0.010           0.01          32  0.680054  0.732158  0.845338   \n",
       "11      0.2  0.100           0.01          32  3.127596  0.732158  0.845338   \n",
       "13      0.3  0.001           0.01          32  0.674967  0.732158  0.845338   \n",
       "14      0.3  0.010           0.01          32  0.679856  0.732158  0.845338   \n",
       "15      0.3  0.100           0.01          32  3.133049  0.732158  0.845338   \n",
       "\n",
       "    auc  \n",
       "8   0.5  \n",
       "12  0.5  \n",
       "4   0.5  \n",
       "0   0.5  \n",
       "1   0.5  \n",
       "2   0.5  \n",
       "3   0.5  \n",
       "5   0.5  \n",
       "6   0.5  \n",
       "7   0.5  \n",
       "9   0.5  \n",
       "10  0.5  \n",
       "11  0.5  \n",
       "13  0.5  \n",
       "14  0.5  \n",
       "15  0.5  "
      ]
     },
     "execution_count": 43,
     "metadata": {},
     "output_type": "execute_result"
    }
   ],
   "source": [
    "cvs_wider = dict_to_dataframe(cvs=cvs_wider, metrics=['loss', 'accuracy', 'f1_score', 'auc'])\n",
    "cvs_wider.sort_values(by=['accuracy'], ascending=False)"
   ]
  },
  {
   "cell_type": "code",
   "execution_count": 64,
   "id": "b9706bf1",
   "metadata": {},
   "outputs": [
    {
     "data": {
      "image/png": "[encoded data removed]",
      "text/plain": [
       "<Figure size 640x480 with 1 Axes>"
      ]
     },
     "metadata": {},
     "output_type": "display_data"
    }
   ],
   "source": [
    "#plotting of accuracy to compare between models.\n",
    "models = ['deep','deeper', 'wider']\n",
    "accuracies = [cvs_deep['accuracy'].max(), cvs_deeper['accuracy'].max(), cvs_wider['accuracy'].max()]\n",
    "\n",
    "# Plot as a line graph\n",
    "plt.plot(models, accuracies, marker='o', linestyle='-')\n",
    "plt.xlabel('Model')\n",
    "plt.ylabel('Accuracy')\n",
    "plt.title('Maximum Accuracy for Each Model')\n",
    "plt.grid(True)\n",
    "plt.show()"
   ]
  },
  {
   "cell_type": "markdown",
   "id": "ZCgFWJYEueUS",
   "metadata": {
    "id": "ZCgFWJYEueUS"
   },
   "source": [
    "Based on the accuracy scores, the **wider model** is the most optimal model to be used on the Chest X-Ray binary classification dataset, with accuracy of 0.93 and parameters: \n",
    "\n",
    "- dropout: 0.02\n",
    "- alpha: 0.000\n",
    "- learning rate: 0.01\n",
    "- batch size: 32"
   ]
  },
  {
   "cell_type": "markdown",
   "id": "d0638e74",
   "metadata": {},
   "source": [
    "# 10. Testing"
   ]
  },
  {
   "cell_type": "code",
   "execution_count": 50,
   "id": "0fe7b1fe",
   "metadata": {
    "id": "0fe7b1fe"
   },
   "outputs": [],
   "source": [
    "# optimal parameters are taken out from our k-fold grid-search stats\n",
    "# deep\n",
    "best_params = {\n",
    "    'dropout': 0.2,\n",
    "    'alpha': 0.000,\n",
    "    'learning_rate': 0.01,\n",
    "    'batch_size': 32\n",
    "}\n",
    "\n",
    "best_model = WiderModel(l2_penalty=best_params['alpha'], dropout_rate=best_params['dropout'])\n",
    "\n",
    "best_model.compile(optimizer=RMSprop(learning_rate=best_params['learning_rate']),\n",
    "                   loss=LOSS_FUNC, metrics=METRICS)\n",
    "\n",
    "history = best_model.fit(X_train, y_train,\n",
    "                         class_weight=CLASS_WEIGHT,\n",
    "                         batch_size=best_params['batch_size'], epochs=EPOCHS,\n",
    "                         validation_data=(X_val, y_val),\n",
    "                         callbacks=[EARLY_STOP],\n",
    "                         verbose=0)"
   ]
  },
  {
   "cell_type": "code",
   "execution_count": 51,
   "id": "c190eb56",
   "metadata": {
    "colab": {
     "base_uri": "https://localhost:8080/"
    },
    "id": "c190eb56",
    "outputId": "3f602f78-b466-42a0-cb8d-a8cd6e805048"
   },
   "outputs": [
    {
     "name": "stdout",
     "output_type": "stream",
     "text": [
      "Accuracy (Validation): 0.94 (Naive Baseline = 0.73)\n"
     ]
    }
   ],
   "source": [
    "validation_scores = best_model.evaluate(X_val, y_val, verbose=0)[1:]\n",
    "\n",
    "print('Accuracy (Validation): {:.2f} (Naive Baseline = {:.2f})'.format(validation_scores[0], baseline_accuracy))"
   ]
  },
  {
   "cell_type": "code",
   "execution_count": 52,
   "id": "f8726e7b",
   "metadata": {
    "colab": {
     "base_uri": "https://localhost:8080/",
     "height": 472
    },
    "id": "f8726e7b",
    "outputId": "64512d88-af3e-4dba-a314-3c94b0a23359"
   },
   "outputs": [
    {
     "data": {
      "image/png": "[encoded data removed]",
      "text/plain": [
       "<Figure size 640x480 with 1 Axes>"
      ]
     },
     "metadata": {},
     "output_type": "display_data"
    }
   ],
   "source": [
    "plot_loss(loss=history.history['loss'], val_loss=history.history['val_loss'])"
   ]
  },
  {
   "cell_type": "code",
   "execution_count": 53,
   "id": "136e6a9a",
   "metadata": {},
   "outputs": [
    {
     "data": {
      "image/png": "[encoded data removed]",
      "text/plain": [
       "<Figure size 640x480 with 1 Axes>"
      ]
     },
     "metadata": {},
     "output_type": "display_data"
    }
   ],
   "source": [
    "plot_accuracy(acc=history.history['accuracy'],val_acc=history.history['val_accuracy'])"
   ]
  },
  {
   "cell_type": "code",
   "execution_count": 54,
   "id": "91004105",
   "metadata": {
    "colab": {
     "base_uri": "https://localhost:8080/"
    },
    "id": "91004105",
    "outputId": "a4e393bc-6533-44d8-f206-8f0253d9de47"
   },
   "outputs": [
    {
     "name": "stdout",
     "output_type": "stream",
     "text": [
      "Accuracy (Test): 0.92 (Naive Baseline = 0.73)\n"
     ]
    }
   ],
   "source": [
    "test_scores = best_model.evaluate(X_test, y_test, verbose=0)[1:]\n",
    "\n",
    "print('Accuracy (Test): {:.2f} (Naive Baseline = {:.2f})'.format(test_scores[0], baseline_accuracy))"
   ]
  },
  {
   "cell_type": "markdown",
   "id": "66663269",
   "metadata": {},
   "source": [
    "Based on the above graphs and test accuracy, it is shown the the model that has been retrained is of a similar accuracy result as the cross validation evaluation, where test accuracy is 0.92 and cross validation is 0.93. This shows that the wider model is well re-trained and has the most optimal architecture to ensure that the chest x-ray images are detected correctly and categorized under the correct class. \n",
    "\n",
    "With reference to both graphs, there seems to be a sharp dip in the validation accuracy and validation loss, this could be due to both validation and training sets are finite and incomplete samples of the sample space. Hence the validation metrics may be more noisy since validation set has a much smaller datapoint than the training dataset. Overall, the validation accuracy and validation loss follows the downward trend of the training accuracy and training loss generally. This show that the model is optimal."
   ]
  },
  {
   "cell_type": "markdown",
   "id": "a8b99395",
   "metadata": {},
   "source": [
    "# 11. Conclusion"
   ]
  },
  {
   "cell_type": "markdown",
   "id": "b92abd4d",
   "metadata": {},
   "source": [
    "In conclusion, the primary aim of this project was to develop and evaluate deep learning models for automated pneumonia diagnosis from chest X-ray images. Through rigorous experimentation and evaluation, it has been determined that the wider learning model, with the specified architecture and parameters, stands out as the most optimal choice for binary classification of chest X-ray images. With a dropout rate of 0.02, L2 regularization coefficient of 0.000, learning rate of 0.01, and batch size of 32, this model demonstrates superior performance in accurately distinguishing between pneumonia and normal cases. Its robustness, reliability, and high accuracy scores make it well-suited for integration into clinical workflows, potentially enhancing diagnostic efficiency and supporting healthcare professionals in decision-making processes.\n",
    "\n",
    "In light of the retraining of the model, the final accuracy test score of 0.92 signifies a notable improvement over the naive baseline accuracy of 0.73. This underscores the effectiveness of the developed deep learning model in accurately classifying chest X-ray images for pneumonia diagnosis. With a substantial increase in accuracy, the model demonstrates its capability to reliably differentiate between pneumonia and normal cases, thereby enhancing diagnostic efficiency and potentially aiding healthcare professionals in decision-making processes."
   ]
  },
  {
   "cell_type": "markdown",
   "id": "0cdf60d1",
   "metadata": {},
   "source": [
    "# 12. References."
   ]
  },
  {
   "cell_type": "markdown",
   "id": "dc82437b",
   "metadata": {},
   "source": [
    "[1]: Mooney Paul. 2018. Chest X-Ray Images (Pneumonia). Available at:  https://www.kaggle.com/datasets/paultimothymooney/chest-xray-pneumonia\n",
    "\n",
    "[2]: Aditya Taparia. 2023. Gradient Descent With RMSProp from Scratch. Available at:  https://www.geeksforgeeks.org/gradient-descent-with-rmsprop-from-scratch/\n",
    "\n",
    "[3]: Shipra Saxena. 2023. Binary Cross Entropy/Log Loss for Binary Classification. Available at:  https://www.analyticsvidhya.com/blog/2021/03/binary-cross-entropy-log-loss-for-binary-classification/#:~:text=Binary%20Cross%20Entropy%2C%20also%20known,binary%20labels%20of%20a%20dataset.\n",
    "\n",
    "[4]: Aston Zhang, Zack C. Lipton, Mu Li, Alex J. Smola. No Date. 5.6. Dropout. Available at:  https://d2l.ai/chapter_multilayer-perceptrons/dropout.html\n",
    "\n",
    "[5]: Francis Benistant. 2023. Part5: Neural Network Regression with Keras and TensorFlow: Custom Regularization function and Custom Activity Regularization function to Avoid Overfitting in Neural Networks. Available at:  https://2020machinelearning.medium.com/part5-neural-network-regression-with-keras-and-tensorflow-custom-regularization-function-and-74b081f87273#:~:text=On%20the%20other%20hand%2C%20kernel,the%20weights%20in%20the%20network."
   ]
  }
 ],
 "metadata": {
  "accelerator": "GPU",
  "colab": {
   "gpuType": "T4",
   "provenance": []
  },
  "kernelspec": {
   "display_name": "Python 3 (ipykernel)",
   "language": "python",
   "name": "python3"
  },
  "language_info": {
   "codemirror_mode": {
    "name": "ipython",
    "version": 3
   },
   "file_extension": ".py",
   "mimetype": "text/x-python",
   "name": "python",
   "nbconvert_exporter": "python",
   "pygments_lexer": "ipython3",
   "version": "3.9.18"
  }
 },
 "nbformat": 4,
 "nbformat_minor": 5
}
